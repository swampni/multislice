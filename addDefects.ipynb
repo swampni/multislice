{
 "cells": [
  {
   "cell_type": "code",
   "execution_count": 1,
   "metadata": {},
   "outputs": [],
   "source": [
    "import numpy as np\n",
    "import matplotlib.pyplot as plt"
   ]
  },
  {
   "cell_type": "code",
   "execution_count": 2,
   "metadata": {},
   "outputs": [],
   "source": [
    "data = np.loadtxt('../../zmult/Si110_20x14x1.dat', delimiter='\\t', skiprows=2, )"
   ]
  },
  {
   "cell_type": "code",
   "execution_count": 3,
   "metadata": {},
   "outputs": [],
   "source": [
    "class NearestNeighbor:\n",
    "    def __init__(self, data):\n",
    "        self.data = data\n",
    "        unique_xpos = np.unique(data[:, 1])\n",
    "        unique_ypos = np.unique(data[:, 2])\n",
    "        unique_zpos = np.unique(data[:, 3])\n",
    "        \n",
    "        self.xpos = dict(zip(unique_xpos, range(len(unique_xpos))))\n",
    "        self.invert_xpos = {v: k for k, v in self.xpos.items()}\n",
    "        self.invert_xpos[len(unique_xpos)] = unique_xpos[0]\n",
    "        self.invert_xpos[-1] = unique_xpos[-1]\n",
    "        \n",
    "        self.ypos = dict(zip(unique_ypos, range(len(unique_ypos))))\n",
    "        self.invert_ypos = {v: k for k, v in self.ypos.items()}\n",
    "        self.invert_ypos[len(unique_ypos)] = unique_ypos[0]\n",
    "        self.invert_ypos[-1] = unique_ypos[-1]\n",
    "        \n",
    "        self.zpos = dict(zip(unique_zpos, range(len(unique_zpos))))\n",
    "        self.invert_zpos = {v: k for k, v in self.zpos.items()}\n",
    "        self.invert_zpos[len(unique_zpos)] = np.NAN\n",
    "        self.invert_zpos[-1] = np.NAN\n",
    "\n",
    "    def downNN(self, atom):\n",
    "        atom = self.data[atom]\n",
    "        nn = np.where(((self.data[:, 1] == self.invert_xpos[self.xpos[atom[1]] + 1]) | \n",
    "                       (self.data[:, 1] == self.invert_xpos[self.xpos[atom[1]] - 1])) & \n",
    "                      (self.data[:, 2] == atom[2]) & \n",
    "                      (self.data[:, 3] == self.invert_zpos[self.zpos[atom[3]] + 1]))[0]\n",
    "\n",
    "        if len(nn) == 0:\n",
    "            return None\n",
    "        return nn[0], self.data[nn]\n",
    "\n",
    "    def upNN(self, atom):\n",
    "        atom = self.data[atom]\n",
    "        nn = np.where(((self.data[:, 1] == self.invert_xpos[self.xpos[atom[1]] + 1]) | \n",
    "                       (self.data[:, 1] == self.invert_xpos[self.xpos[atom[1]] - 1])) & \n",
    "                      (self.data[:, 2] == atom[2]) & \n",
    "                      (self.data[:, 3] == self.invert_zpos[self.zpos[atom[3]] - 1]))[0]\n",
    "\n",
    "        if len(nn) == 0:\n",
    "            return None\n",
    "        return nn[0], self.data[nn]\n",
    "\n",
    "    def leftNN(self, atom):\n",
    "        atom = self.data[atom]\n",
    "        nn = np.where(((self.data[:, 1] == self.invert_xpos[self.xpos[atom[1]] + 1]) | \n",
    "                       (self.data[:, 1] == self.invert_xpos[self.xpos[atom[1]] - 1])) & \n",
    "                      (self.data[:, 2] == self.invert_ypos[self.ypos[atom[2]] + 1]) & \n",
    "                      (self.data[:, 3] == atom[3]))[0]\n",
    "\n",
    "        return nn[0], self.data[nn]\n",
    "        \n",
    "    def rightNN(self, atom):\n",
    "        atom = self.data[atom]\n",
    "        nn = np.where(((self.data[:, 1] == self.invert_xpos[self.xpos[atom[1]] + 1]) | \n",
    "                       (self.data[:, 1] == self.invert_xpos[self.xpos[atom[1]] - 1])) & \n",
    "                      (self.data[:, 2] == self.invert_ypos[self.ypos[atom[2]] - 1]) & \n",
    "                      (self.data[:, 3] == atom[3]))[0]\n",
    "        return nn[0], self.data[nn]\n",
    "    \n",
    "    "
   ]
  },
  {
   "cell_type": "code",
   "execution_count": 4,
   "metadata": {},
   "outputs": [],
   "source": [
    "#data format\n",
    "# 0: atom species\n",
    "# 1: x (0~1)\n",
    "# 2: y (0~1)\n",
    "# 3: z (0~1)\n",
    "# 4: occupancy\n",
    "def thickness_adjust(data, layers):\n",
    "    '''\n",
    "        Adjust the thickness of the slab by adding repeating layers\n",
    "        layers: number of layers to add\n",
    "        return: new data\n",
    "    '''\n",
    "    #repeat the data\n",
    "    new_data = np.tile(data, (layers, 1))\n",
    "    #adjust the z coordinate\n",
    "    new_data[:, 3] = new_data[:, 3]/layers + 1/layers*np.repeat(np.arange(layers), len(data))\n",
    "    return new_data\n",
    "    "
   ]
  },
  {
   "cell_type": "code",
   "execution_count": 5,
   "metadata": {},
   "outputs": [],
   "source": [
    "layers = 50\n",
    "new_data = thickness_adjust(data, layers)"
   ]
  },
  {
   "cell_type": "code",
   "execution_count": 6,
   "metadata": {},
   "outputs": [],
   "source": [
    "nn = NearestNeighbor(new_data.copy())"
   ]
  },
  {
   "cell_type": "code",
   "execution_count": 7,
   "metadata": {},
   "outputs": [],
   "source": [
    "# no coupling\n",
    "unique_values = np.unique(data[:, 1])[::2]\n",
    "rng = np.random.default_rng()\n",
    "dopant = rng.choice(np.where(np.isin(new_data[:, 1], unique_values))[0], int(new_data.shape[0]*0.03), replace=False, shuffle=False)\n",
    "unique_values = np.unique(data[:, 1])[1::2]\n",
    "vacancy = rng.choice(np.where(np.isin(new_data[:, 1], unique_values))[0], int(new_data.shape[0]*0.03), replace=False, shuffle=False)\n",
    "# change = rng.choice(np.arange(new_data.shape[0]), int(new_data.shape[0]*0.06), replace=False, shuffle=True)\n",
    "# dopant = change[:len(change)//2]\n",
    "# vacancy = change[len(change)//2:]\n",
    "new_data[dopant, 0] = 2\n",
    "new_data[vacancy, 0] = 0"
   ]
  },
  {
   "cell_type": "code",
   "execution_count": 7,
   "metadata": {},
   "outputs": [],
   "source": [
    "# 1NN coupling\n",
    "concentration = 0.015\n",
    "unique_values = np.unique(data[:, 1])[1::2]\n",
    "\n",
    "rng = np.random.default_rng()\n",
    "# change = rng.choice(new_data.shape[0], int(new_data.shape[0]*concentration), replace=False, shuffle=True)\n",
    "change = rng.choice(np.where(np.isin(new_data[:, 1], unique_values))[0], int(new_data.shape[0]*concentration), replace=False, shuffle=False)\n",
    "# new_data[change, 0] = 0\n",
    "for c in change:\n",
    "    # print(c, new_data[c, 1:4])\n",
    "    # vcoord = new_data[c,1:4]\n",
    "    # idx = nn.upNN(c)\n",
    "    # if idx is not None:\n",
    "    #     new_data[idx[0], 0] = 2\n",
    "    #     vec = new_data[idx[0],1:4] - vcoord\n",
    "\n",
    "    #     if vec[0] > 0.5:\n",
    "    #         vec = (new_data[idx[0],1:4] - np.array([1, 0, 0])) - vcoord\n",
    "    #     elif vec[0] < -0.5:\n",
    "    #         vec = (new_data[idx[0],1:4] + np.array([1, 0, 0])) - vcoord\n",
    "\n",
    "    #     print(new_data[idx[0],1:4])    \n",
    "    #     print(vcoord + vec*0.9132)\n",
    "    #     new_data[idx[0],1:4] = vcoord + vec*0.9132\n",
    "    # idx = nn.downNN(c)\n",
    "    # if idx is not None:\n",
    "    #     new_data[idx[0], 0] = 2\n",
    "        # vec = new_data[idx[0],1:4] - vcoord\n",
    "\n",
    "        # if vec[0] > 0.5:\n",
    "        #     vec = (new_data[idx[0],1:4] - np.array([1, 0, 0])) - vcoord\n",
    "        # elif vec[0] < -0.5:\n",
    "        #     vec = (new_data[idx[0],1:4] + np.array([1, 0, 0])) - vcoord\n",
    "\n",
    "        # print(new_data[idx[0],1:4])\n",
    "        # print(vcoord + vec*0.9132)\n",
    "        # new_data[idx[0],1:4] = vcoord + vec*0.9132\n",
    "\n",
    "    idx = nn.rightNN(c)  \n",
    "    if idx is not None:\n",
    "        new_data[idx[0], 0] = 2\n",
    "        # vec = new_data[idx[0],1:4] - vcoord\n",
    "        \n",
    "        # if vec[0] > 0.5:\n",
    "        #     vec = (new_data[idx[0],1:4] - np.array([1, 0, 0])) - vcoord\n",
    "        # elif vec[0] < -0.5:\n",
    "        #     vec = (new_data[idx[0],1:4] + np.array([1, 0, 0])) - vcoord\n",
    "        # if vec[1] > 0.5:            \n",
    "        #     vec = (new_data[idx[0],1:4] - np.array([0, 1, 0])) - vcoord\n",
    "        \n",
    "        # print(new_data[idx[0],1:4])    \n",
    "        # print(vcoord + vec*0.9132)\n",
    "        # new_data[idx[0],1:4] = vcoord + vec*0.9132\n",
    "        \n",
    "    \n",
    "    idx = nn.leftNN(c)           \n",
    "    if idx is not None:\n",
    "        new_data[idx[0], 0] = 2\n",
    "        # vec = new_data[idx[0],1:4] - vcoord\n",
    "\n",
    "        # if vec[0] > 0.5:\n",
    "        #     vec = (new_data[idx[0],1:4] - np.array([1, 0, 0])) - vcoord\n",
    "        # elif vec[0] < -0.5:\n",
    "        #     vec = (new_data[idx[0],1:4] + np.array([1, 0, 0])) - vcoord\n",
    "        # if vec[1] < -0.5:            \n",
    "        #     vec = (new_data[idx[0],1:4] + np.array([0, 1, 0])) - vcoord\n",
    "        # print(new_data[idx[0],1:4])\n",
    "        # print(vcoord + vec*0.9132)\n",
    "        # new_data[idx[0],1:4] = vcoord + vec*0.9132\n",
    "\n",
    "\n",
    "## add phosphorus to match the concentration\n",
    "# unique_values = np.unique(data[:, 1])[::2]\n",
    "\n",
    "# change = rng.choice(np.where((new_data[:, 0]==1)&np.isin(new_data[:, 1], unique_values))[0], int(new_data.shape[0]*0.018), replace=False, shuffle=False)\n",
    "# new_data[change, 0] = 2\n",
    "\n",
    "# pos = new_data[:,1:4]\n",
    "# pos[pos > 1] -= 1\n",
    "# pos[pos < 0] += 1"
   ]
  },
  {
   "cell_type": "code",
   "execution_count": 8,
   "metadata": {},
   "outputs": [
    {
     "data": {
      "text/plain": [
       "array([], shape=(0, 5), dtype=float64)"
      ]
     },
     "execution_count": 8,
     "metadata": {},
     "output_type": "execute_result"
    }
   ],
   "source": [
    "new_data[new_data[:,1]>1]"
   ]
  },
  {
   "cell_type": "code",
   "execution_count": 10,
   "metadata": {},
   "outputs": [
    {
     "data": {
      "text/plain": [
       "<matplotlib.legend.Legend at 0x2064a918940>"
      ]
     },
     "execution_count": 10,
     "metadata": {},
     "output_type": "execute_result"
    },
    {
     "data": {
      "image/png": "[encoded data removed]",
      "text/plain": [
       "<Figure size 640x480 with 1 Axes>"
      ]
     },
     "metadata": {},
     "output_type": "display_data"
    }
   ],
   "source": [
    "targetCol = data[np.isin(data[:,1],np.unique(data[:, 1])[::2])]\n",
    "plt.scatter(targetCol[:,1], targetCol[:,2], s=2, label='site 1')\n",
    "targetCol = data[np.isin(data[:,1],np.unique(data[:, 1])[1::2])]\n",
    "plt.scatter(targetCol[:,1], targetCol[:,2], s=2, label='site 2') \n",
    "plt.legend()"
   ]
  },
  {
   "cell_type": "code",
   "execution_count": 14,
   "metadata": {},
   "outputs": [
    {
     "name": "stdout",
     "output_type": "stream",
     "text": [
      "6562\n"
     ]
    }
   ],
   "source": [
    "print(np.sum(new_data[:,0]==2))"
   ]
  },
  {
   "cell_type": "code",
   "execution_count": 16,
   "metadata": {},
   "outputs": [
    {
     "data": {
      "text/plain": [
       "1680"
      ]
     },
     "execution_count": 16,
     "metadata": {},
     "output_type": "execute_result"
    }
   ],
   "source": []
  },
  {
   "cell_type": "code",
   "execution_count": 8,
   "metadata": {},
   "outputs": [],
   "source": [
    "header = '''108.6000 107.5088 90.0000 {}\n",
    "    {}'''.format(7.6792*layers, len(new_data[new_data[:,0]!=0]))\n",
    "np.savetxt(f'dat/DP2/Si110_20x14x{layers}_P{3}percent_leftright.dat', new_data[new_data[:,0]!=0], delimiter='\\t', header=header, comments='', fmt='%d\\t%.7f\\t%.7f\\t%.7f\\t%d')\n",
    "np.save(f'dat/DP2/Si110_20x14x{layers}_P{3}percent_leftright.npy', new_data)"
   ]
  },
  {
   "cell_type": "code",
   "execution_count": 10,
   "metadata": {},
   "outputs": [],
   "source": [
    "for concentration in np.arange(0.2, 1, 0.1):\n",
    "    unique_values = np.unique(data[:, 1])[::2]\n",
    "    selected_rows = new_data[np.isin(new_data[:, 1], unique_values)]\n",
    "    rng = np.random.default_rng()\n",
    "    change = rng.choice(selected_rows.shape[0], int(selected_rows.shape[0]*concentration), replace=False, shuffle=False)\n",
    "    selected_rows[change, 0] = 2\n",
    "    # selected_rows = np.delete(selected_rows, change, axis=0)\n",
    "    unselected_rows = new_data[~np.isin(new_data[:, 1], unique_values)]\n",
    "    res_data = np.concatenate((selected_rows, unselected_rows), axis=0)\n",
    "\n",
    "    header = '''108.6000 107.5088 90.0000 {}\n",
    "    {}'''.format(7.6792*layers, len(new_data))\n",
    "    np.savetxt('dat/Si110_20x14x{}_P{}percent_in_oneColumn.dat'.format(layers, int(concentration*100)), res_data, delimiter='\\t', header=header, comments='', fmt='%d\\t%.7f\\t%.7f\\t%.7f\\t%d')\n"
   ]
  },
  {
   "cell_type": "code",
   "execution_count": 23,
   "metadata": {},
   "outputs": [],
   "source": [
    "rng = np.random.default_rng()\n",
    "remove = rng.choice(new_data.shape[0]//2, int(new_data.shape[0]*0.02), replace=False, shuffle=False)\n",
    "# new_data = np.delete(new_data, remove, axis=0)\n"
   ]
  },
  {
   "cell_type": "code",
   "execution_count": 7,
   "metadata": {},
   "outputs": [],
   "source": [
    "header = '''108.6000 107.5088 90.0000 {}\n",
    "{}'''.format(7.6792*layers, len(new_data))\n",
    "np.savetxt('dat/Si110_20x14x{}_P{}percent_in_oneColumn.dat'.format(layers), new_data, delimiter='\\t', header=header, comments='', fmt='%d\\t%.7f\\t%.7f\\t%.7f\\t%d')"
   ]
  },
  {
   "cell_type": "markdown",
   "metadata": {},
   "source": [
    "$h^2 = (\\frac{a}{2tan(\\frac{\\theta}{2})})^2 - (\\frac{\\sqrt{3}}{6}a)^2$\n",
    "a is the original bond length, $\\theta$ is the new bond angle"
   ]
  },
  {
   "cell_type": "code",
   "execution_count": 20,
   "metadata": {},
   "outputs": [
    {
     "name": "stdout",
     "output_type": "stream",
     "text": [
      "0.18191127680867467\n"
     ]
    }
   ],
   "source": [
    "a = (np.sqrt(2)/2)\n",
    "# value taken from the paper \n",
    "# Effects of Phosphorus Doping and Postgrowth Laser Annealing on the Structural, Electrical, and Chemical Properties of Phosphorus-Doped Silicon Films\n",
    "# Minhyeong Lee, Hwa-Yeon Ryu, Eunjung Ko, and Dae-Hong Ko\n",
    "# ACS Applied Electronic Materials 2019 1 (3), 288-301\n",
    "#DOI: 10.1021/acsaelm.8b00057\n",
    "\n",
    "theta = np.deg2rad(104.567)\n",
    "# theta = np.arccos(-1/3)\n",
    "\n",
    "h = (a / (2 * np.tan(theta / 2)))**2 - (np.sqrt(3) / 6 * a)**2\n",
    "shifted = np.sqrt(h)\n",
    "print(shifted)\n",
    "# print(shifted - np.sqrt(h))"
   ]
  },
  {
   "cell_type": "code",
   "execution_count": 26,
   "metadata": {},
   "outputs": [
    {
     "data": {
      "text/plain": [
       "3.432790530599446"
      ]
     },
     "execution_count": 26,
     "metadata": {},
     "output_type": "execute_result"
    }
   ],
   "source": [
    "np.sqrt(h + (np.sqrt(3)/3*a)**2)"
   ]
  },
  {
   "cell_type": "code",
   "execution_count": 12,
   "metadata": {},
   "outputs": [
    {
     "data": {
      "text/plain": [
       "0.14433756729740643"
      ]
     },
     "execution_count": 12,
     "metadata": {},
     "output_type": "execute_result"
    }
   ],
   "source": [
    "np.sqrt(6)/12*(np.sqrt(2)/2)"
   ]
  },
  {
   "cell_type": "code",
   "execution_count": 13,
   "metadata": {},
   "outputs": [
    {
     "data": {
      "text/plain": [
       "0.14433756729740643"
      ]
     },
     "execution_count": 13,
     "metadata": {},
     "output_type": "execute_result"
    }
   ],
   "source": [
    "1/12*np.sqrt(3)"
   ]
  },
  {
   "cell_type": "markdown",
   "metadata": {},
   "source": [
    "(1/4, 1/4, 1/4) -> (0.2283,0.2283,0.2283)"
   ]
  },
  {
   "cell_type": "code",
   "execution_count": 23,
   "metadata": {},
   "outputs": [
    {
     "data": {
      "text/plain": [
       "0.9132272347968658"
      ]
     },
     "execution_count": 23,
     "metadata": {},
     "output_type": "execute_result"
    }
   ],
   "source": [
    "((np.sqrt(3)/3 - shifted)/np.sqrt(3))/0.25"
   ]
  },
  {
   "cell_type": "code",
   "execution_count": null,
   "metadata": {},
   "outputs": [],
   "source": []
  }
 ],
 "metadata": {
  "kernelspec": {
   "display_name": "torch",
   "language": "python",
   "name": "python3"
  },
  "language_info": {
   "codemirror_mode": {
    "name": "ipython",
    "version": 3
   },
   "file_extension": ".py",
   "mimetype": "text/x-python",
   "name": "python",
   "nbconvert_exporter": "python",
   "pygments_lexer": "ipython3",
   "version": "3.10.15"
  },
  "orig_nbformat": 4
 },
 "nbformat": 4,
 "nbformat_minor": 2
}
